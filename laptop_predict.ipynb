{
 "cells": [
  {
   "cell_type": "code",
   "execution_count": 80,
   "metadata": {},
   "outputs": [],
   "source": [
    "import pandas as pd \n",
    "import numpy as np\n",
    "import matplotlib.pyplot as plt\n",
    "import seaborn as sns\n",
    "import re\n",
    "from sklearn.impute import SimpleImputer"
   ]
  },
  {
   "cell_type": "code",
   "execution_count": 3,
   "metadata": {},
   "outputs": [],
   "source": [
    "laptop_data=pd.read_csv(\"laptop_price.csv\",encoding=\"latin-1\")"
   ]
  },
  {
   "cell_type": "code",
   "execution_count": 27,
   "metadata": {},
   "outputs": [
    {
     "data": {
      "text/html": [
       "<div>\n",
       "<style scoped>\n",
       "    .dataframe tbody tr th:only-of-type {\n",
       "        vertical-align: middle;\n",
       "    }\n",
       "\n",
       "    .dataframe tbody tr th {\n",
       "        vertical-align: top;\n",
       "    }\n",
       "\n",
       "    .dataframe thead th {\n",
       "        text-align: right;\n",
       "    }\n",
       "</style>\n",
       "<table border=\"1\" class=\"dataframe\">\n",
       "  <thead>\n",
       "    <tr style=\"text-align: right;\">\n",
       "      <th></th>\n",
       "      <th>laptop_ID</th>\n",
       "      <th>Inches</th>\n",
       "      <th>Price_euros</th>\n",
       "    </tr>\n",
       "  </thead>\n",
       "  <tbody>\n",
       "    <tr>\n",
       "      <th>count</th>\n",
       "      <td>1303.000000</td>\n",
       "      <td>1303.000000</td>\n",
       "      <td>1303.000000</td>\n",
       "    </tr>\n",
       "    <tr>\n",
       "      <th>mean</th>\n",
       "      <td>660.155794</td>\n",
       "      <td>15.017191</td>\n",
       "      <td>1123.686992</td>\n",
       "    </tr>\n",
       "    <tr>\n",
       "      <th>std</th>\n",
       "      <td>381.172104</td>\n",
       "      <td>1.426304</td>\n",
       "      <td>699.009043</td>\n",
       "    </tr>\n",
       "    <tr>\n",
       "      <th>min</th>\n",
       "      <td>1.000000</td>\n",
       "      <td>10.100000</td>\n",
       "      <td>174.000000</td>\n",
       "    </tr>\n",
       "    <tr>\n",
       "      <th>25%</th>\n",
       "      <td>331.500000</td>\n",
       "      <td>14.000000</td>\n",
       "      <td>599.000000</td>\n",
       "    </tr>\n",
       "    <tr>\n",
       "      <th>50%</th>\n",
       "      <td>659.000000</td>\n",
       "      <td>15.600000</td>\n",
       "      <td>977.000000</td>\n",
       "    </tr>\n",
       "    <tr>\n",
       "      <th>75%</th>\n",
       "      <td>990.500000</td>\n",
       "      <td>15.600000</td>\n",
       "      <td>1487.880000</td>\n",
       "    </tr>\n",
       "    <tr>\n",
       "      <th>max</th>\n",
       "      <td>1320.000000</td>\n",
       "      <td>18.400000</td>\n",
       "      <td>6099.000000</td>\n",
       "    </tr>\n",
       "  </tbody>\n",
       "</table>\n",
       "</div>"
      ],
      "text/plain": [
       "         laptop_ID       Inches  Price_euros\n",
       "count  1303.000000  1303.000000  1303.000000\n",
       "mean    660.155794    15.017191  1123.686992\n",
       "std     381.172104     1.426304   699.009043\n",
       "min       1.000000    10.100000   174.000000\n",
       "25%     331.500000    14.000000   599.000000\n",
       "50%     659.000000    15.600000   977.000000\n",
       "75%     990.500000    15.600000  1487.880000\n",
       "max    1320.000000    18.400000  6099.000000"
      ]
     },
     "execution_count": 27,
     "metadata": {},
     "output_type": "execute_result"
    }
   ],
   "source": [
    "laptop_data.describe()"
   ]
  },
  {
   "cell_type": "code",
   "execution_count": 28,
   "metadata": {},
   "outputs": [
    {
     "name": "stdout",
     "output_type": "stream",
     "text": [
      "<class 'pandas.core.frame.DataFrame'>\n",
      "RangeIndex: 1303 entries, 0 to 1302\n",
      "Data columns (total 13 columns):\n",
      " #   Column            Non-Null Count  Dtype  \n",
      "---  ------            --------------  -----  \n",
      " 0   laptop_ID         1303 non-null   int64  \n",
      " 1   Company           1303 non-null   object \n",
      " 2   Product           1303 non-null   object \n",
      " 3   TypeName          1303 non-null   object \n",
      " 4   Inches            1303 non-null   float64\n",
      " 5   ScreenResolution  1303 non-null   object \n",
      " 6   Cpu               1303 non-null   object \n",
      " 7   Ram               1303 non-null   object \n",
      " 8   Memory            1303 non-null   object \n",
      " 9   Gpu               1303 non-null   object \n",
      " 10  OpSys             1303 non-null   object \n",
      " 11  Weight            1303 non-null   object \n",
      " 12  Price_euros       1303 non-null   float64\n",
      "dtypes: float64(2), int64(1), object(10)\n",
      "memory usage: 132.5+ KB\n"
     ]
    }
   ],
   "source": [
    "laptop_data.info()"
   ]
  },
  {
   "cell_type": "code",
   "execution_count": 72,
   "metadata": {},
   "outputs": [
    {
     "data": {
      "text/plain": [
       "Index(['laptop_ID', 'Company', 'Product', 'TypeName', 'Inches',\n",
       "       'ScreenResolution', 'Cpu', 'Ram', 'Memory', 'Gpu', 'OpSys', 'Weight',\n",
       "       'Price_euros'],\n",
       "      dtype='object')"
      ]
     },
     "execution_count": 72,
     "metadata": {},
     "output_type": "execute_result"
    }
   ],
   "source": [
    "laptop_data.columns"
   ]
  },
  {
   "cell_type": "code",
   "execution_count": 95,
   "metadata": {},
   "outputs": [],
   "source": [
    "#testing\n",
    "def transformer(dataset):\n",
    "    wt=[]\n",
    "    ram=[]\n",
    "    x_res=[]\n",
    "    y_res=[]\n",
    "    all_res=[]\n",
    "    scrn_type=[]\n",
    "    cpu_freq=[]\n",
    "    cpu_type=[]\n",
    "    for i in [\n",
    "       'ScreenResolution', 'Cpu', 'Ram', 'Gpu',  'Weight',\n",
    "       ]:\n",
    "        X=dataset[i]\n",
    "        if 'kg' in X[0]:\n",
    "            for i in X:\n",
    "                wt.append(float(i.split(\"kg\")[0]))\n",
    "            dataset.drop(\"Weight\",axis=1,inplace=True)\n",
    "            dataset[\"Weight(kg)\"]=wt\n",
    "        \n",
    "        elif 'GB' in X[0]:\n",
    "            for i in X:\n",
    "                ram.append(int(i.split(\"GB\")[0]))\n",
    "            \n",
    "            dataset.drop(\"Ram\",axis=1,inplace=True)\n",
    "            dataset[\"Ram(GB)\"]=ram\n",
    "    \n",
    "        elif re.search(r\"(\\d{3,4}x\\d{3,4})\",X[0]):\n",
    "            most_freq=dataset[\"ScreenResolution\"].value_counts().keys()[0]\n",
    "            for i in X:\n",
    "                temp=(re.search(r\"(\\d{3,4}x\\d{3,4})\",i).group())\n",
    "                temp2=i.split(temp)\n",
    "                temp=temp.split('x')\n",
    "                if temp2[0]=='':\n",
    "                    scrn_type.append(most_freq)\n",
    "                    x_res.append(int(temp[0]))\n",
    "                    y_res.append(int(temp[1]))\n",
    "                    all_res.append([None,int(temp[0]),int(temp[1])])\n",
    "                else:\n",
    "                    scrn_type.append(temp2[0])\n",
    "                    x_res.append(int(temp[0]))\n",
    "                    y_res.append(int(temp[1]))\n",
    "                    all_res.append([temp2[0],int(temp[0]),int(temp[1])])\n",
    "            dataset[\"X_Res\"]=x_res\n",
    "            dataset[\"Y_Res\"]=y_res\n",
    "            dataset[\"Screen_type\"]=scrn_type\n",
    "            dataset.drop(\"ScreenResolution\",axis=1,inplace=True)\n",
    "        elif 'GHz' in X[0]:\n",
    "            for i in X:\n",
    "                temp=re.search(r'(\\d{1}.\\d{0,2}GHz)',i)\n",
    "                if temp:\n",
    "                    temp0=re.split(r'(\\d{1}.\\d{0,2}GHz)',i)[0]\n",
    "                    temp=temp.group().split('GHz')[0]\n",
    "                    cpu_freq.append(temp)\n",
    "                    cpu_type.append(temp[0])\n",
    "                else:\n",
    "                    temp0=re.split(r'(\\d{1}GHz)',i)[1]\n",
    "                    temp=re.search(r'(\\d{1}GHz)',i).group().split('GHz')[0]\n",
    "                    cpu_freq.append(temp)\n",
    "                    cpu_type.append(temp0)\n",
    "            dataset.drop(\"Cpu\",axis=1,inplace=True)\n",
    "            dataset[\"Cpu_freq(GHz)\"]=cpu_freq\n",
    "            dataset[\"Cpu_type(GHz)\"]=cpu_type\n",
    "    return dataset"
   ]
  },
  {
   "cell_type": "code",
   "execution_count": 30,
   "metadata": {},
   "outputs": [],
   "source": [
    "from sklearn.compose import ColumnTransformer,make_column_selector\n",
    "from sklearn.pipeline import make_pipeline,FunctionTransformer\n",
    "from sklearn.preprocessing import OneHotEncoder \n",
    "from sklearn.impute import KNNImputer"
   ]
  },
  {
   "cell_type": "code",
   "execution_count": 96,
   "metadata": {},
   "outputs": [],
   "source": [
    "to_check=laptop_data.copy()"
   ]
  },
  {
   "cell_type": "code",
   "execution_count": 97,
   "metadata": {},
   "outputs": [],
   "source": [
    "to_check=transformer(to_check)"
   ]
  },
  {
   "cell_type": "code",
   "execution_count": 100,
   "metadata": {},
   "outputs": [
    {
     "ename": "TypeError",
     "evalue": "'DataFrame' object is not callable",
     "output_type": "error",
     "traceback": [
      "\u001b[0;31m---------------------------------------------------------------------------\u001b[0m",
      "\u001b[0;31mTypeError\u001b[0m                                 Traceback (most recent call last)",
      "Cell \u001b[0;32mIn[100], line 1\u001b[0m\n\u001b[0;32m----> 1\u001b[0m \u001b[43mto_check\u001b[49m\u001b[43m(\u001b[49m\u001b[43mdtype\u001b[49m\u001b[38;5;241;43m=\u001b[39;49m\u001b[38;5;28;43mint\u001b[39;49m\u001b[43m)\u001b[49m\n",
      "\u001b[0;31mTypeError\u001b[0m: 'DataFrame' object is not callable"
     ]
    }
   ],
   "source": []
  }
 ],
 "metadata": {
  "kernelspec": {
   "display_name": "venv",
   "language": "python",
   "name": "python3"
  },
  "language_info": {
   "codemirror_mode": {
    "name": "ipython",
    "version": 3
   },
   "file_extension": ".py",
   "mimetype": "text/x-python",
   "name": "python",
   "nbconvert_exporter": "python",
   "pygments_lexer": "ipython3",
   "version": "3.12.3"
  }
 },
 "nbformat": 4,
 "nbformat_minor": 2
}
