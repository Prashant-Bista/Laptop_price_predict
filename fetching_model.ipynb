{
 "cells": [
  {
   "cell_type": "code",
   "execution_count": 24,
   "metadata": {},
   "outputs": [],
   "source": [
    "from sklearn.base import TransformerMixin, BaseEstimator\n",
    "from sklearn.model_selection import train_test_split\n",
    "import pandas as pd\n",
    "import numpy as np\n",
    "import joblib \n",
    "import re\n",
    "\n",
    "from sklearn.base import TransformerMixin, BaseEstimator\n",
    "class Transformer(TransformerMixin,BaseEstimator):\n",
    "    def __init__(self):\n",
    "        self.wt=[]\n",
    "        self.ram=[]\n",
    "        self.x_res=[]\n",
    "        self.y_res=[]\n",
    "        self.all_res=[]\n",
    "        self.scrn_type=[]\n",
    "        self.cpu_freq=[]\n",
    "        self.cpu_type=[]\n",
    "    def fit(self,dataset,y=None):\n",
    "        self.dataset=dataset\n",
    "        for i in list(dataset.columns):\n",
    "            X=dataset[i]\n",
    "            if i=='Weight':\n",
    "                for j in X:\n",
    "                    self.wt.append(float(j.split(\"kg\")[0]))\n",
    "        \n",
    "            elif i==\"Ram\":\n",
    "                for j in X:\n",
    "                    self.ram.append(int(j.split(\"GB\")[0]))\n",
    "            \n",
    "            \n",
    "    \n",
    "            elif i==\"ScreenResolution\":\n",
    "                most_freq=X.value_counts().keys()[0]\n",
    "                for j in X.values:\n",
    "                    temp=re.search(r\"(\\d{3,4}x\\d{3,4})\",j).group()\n",
    "                    temp2=j.split(temp)\n",
    "                    temp=temp.split('x')\n",
    "                    if temp2[0]=='':\n",
    "                        self.scrn_type.append(most_freq)\n",
    "                        self.x_res.append(int(temp[0]))\n",
    "                        self.y_res.append(int(temp[1]))\n",
    "                        self.all_res.append([most_freq,int(temp[0]),int(temp[1])])\n",
    "                    else:\n",
    "                        self.scrn_type.append(temp2[0])\n",
    "                        self.x_res.append(int(temp[0]))\n",
    "                        self.y_res.append(int(temp[1]))\n",
    "                        self.all_res.append([temp2[0],int(temp[0]),int(temp[1])])\n",
    "            \n",
    "            elif i==\"Cpu\":\n",
    "                for j in X.values:\n",
    "                    temp=re.search(r'(\\d{1}.\\d{0,2}GHz)',j)\n",
    "                    if temp:\n",
    "                        temp0=re.split(r'(\\d{1}.\\d{0,2}GHz)',j)[0]\n",
    "                        temp=temp.group().split('GHz')[0]\n",
    "                        if re.search(r'(\\d \\d)',temp):\n",
    "                            temp=temp.split(\" \")[1]\n",
    "                            self.cpu_freq.append(float(temp))\n",
    "                        else:\n",
    "                            self.cpu_freq.append(float(temp))\n",
    "                \n",
    "                        self.cpu_type.append(temp0)\n",
    "                    else:\n",
    "                        temp0=re.split(r'(\\d{1}GHz)',j)[0]\n",
    "                        temp=re.search(r'(\\d{1}GHz)',j).group().split('GHz')[0]\n",
    "                        self.cpu_freq.append(float(temp))\n",
    "                        self.cpu_type.append(temp0)\n",
    "            elif i not in [\"Ram\",'Cpu',\"Weight\",\"ScreenResolution\",\"Price_euros\",\"Inches\"]:\n",
    "                self.dataset[i]=X.replace(to_replace=X.unique(),value=range(len(X.unique()))) \n",
    "        return self\n",
    "    \n",
    "    def transform(self,dataset):\n",
    "        self.dataset.drop(\"Ram\",axis=1,inplace=True)\n",
    "        self.dataset[\"Ram(GB)\"]=self.ram\n",
    "        self.dataset.drop(\"Cpu\",axis=1,inplace=True)\n",
    "        self.dataset[\"Cpu_freq(GHz)\"]=self.cpu_freq\n",
    "        self.dataset[\"Cpu_type\"]=self.cpu_type\n",
    "        self.dataset[\"X_Res\"]=self.x_res\n",
    "        self.dataset[\"Y_Res\"]=self.y_res\n",
    "        self.dataset[\"Screen_type\"]=self.scrn_type\n",
    "        self.dataset.drop(\"ScreenResolution\",axis=1,inplace=True)\n",
    "        self.dataset[\"Screen_type\"]   = self.dataset[\"Screen_type\"].replace(to_replace= self.dataset[\"Screen_type\"] .unique(),value=range(len( self.dataset[\"Screen_type\"] .unique())))\n",
    "        self.dataset[\"Cpu_type\"]   = self.dataset[\"Cpu_type\"].replace(to_replace= self.dataset[\"Cpu_type\"] .unique(),value=range(len( self.dataset[\"Cpu_type\"] .unique())))\n",
    "        self.dataset.drop(\"Weight\",axis=1,inplace=True)\n",
    "        self.dataset[\"Weight(Kg)\"]=self.wt\n",
    "        return self.dataset\n",
    "       \n",
    "\n",
    "    \n",
    "            \n",
    "\n",
    "                   \n",
    "       \n",
    "\n",
    "    \n",
    "            \n"
   ]
  },
  {
   "cell_type": "code",
   "execution_count": 2,
   "metadata": {},
   "outputs": [
    {
     "data": {
      "text/html": [
       "<div>\n",
       "<style scoped>\n",
       "    .dataframe tbody tr th:only-of-type {\n",
       "        vertical-align: middle;\n",
       "    }\n",
       "\n",
       "    .dataframe tbody tr th {\n",
       "        vertical-align: top;\n",
       "    }\n",
       "\n",
       "    .dataframe thead th {\n",
       "        text-align: right;\n",
       "    }\n",
       "</style>\n",
       "<table border=\"1\" class=\"dataframe\">\n",
       "  <thead>\n",
       "    <tr style=\"text-align: right;\">\n",
       "      <th></th>\n",
       "      <th>laptop_ID</th>\n",
       "      <th>Company</th>\n",
       "      <th>Product</th>\n",
       "      <th>TypeName</th>\n",
       "      <th>Inches</th>\n",
       "      <th>ScreenResolution</th>\n",
       "      <th>Cpu</th>\n",
       "      <th>Ram</th>\n",
       "      <th>Memory</th>\n",
       "      <th>Gpu</th>\n",
       "      <th>OpSys</th>\n",
       "      <th>Weight</th>\n",
       "      <th>Price_euros</th>\n",
       "    </tr>\n",
       "  </thead>\n",
       "  <tbody>\n",
       "    <tr>\n",
       "      <th>0</th>\n",
       "      <td>1</td>\n",
       "      <td>Apple</td>\n",
       "      <td>MacBook Pro</td>\n",
       "      <td>Ultrabook</td>\n",
       "      <td>13.3</td>\n",
       "      <td>IPS Panel Retina Display 2560x1600</td>\n",
       "      <td>Intel Core i5 2.3GHz</td>\n",
       "      <td>8GB</td>\n",
       "      <td>128GB SSD</td>\n",
       "      <td>Intel Iris Plus Graphics 640</td>\n",
       "      <td>macOS</td>\n",
       "      <td>1.37kg</td>\n",
       "      <td>1339.69</td>\n",
       "    </tr>\n",
       "    <tr>\n",
       "      <th>1</th>\n",
       "      <td>2</td>\n",
       "      <td>Apple</td>\n",
       "      <td>Macbook Air</td>\n",
       "      <td>Ultrabook</td>\n",
       "      <td>13.3</td>\n",
       "      <td>1440x900</td>\n",
       "      <td>Intel Core i5 1.8GHz</td>\n",
       "      <td>8GB</td>\n",
       "      <td>128GB Flash Storage</td>\n",
       "      <td>Intel HD Graphics 6000</td>\n",
       "      <td>macOS</td>\n",
       "      <td>1.34kg</td>\n",
       "      <td>898.94</td>\n",
       "    </tr>\n",
       "  </tbody>\n",
       "</table>\n",
       "</div>"
      ],
      "text/plain": [
       "   laptop_ID Company      Product   TypeName  Inches  \\\n",
       "0          1   Apple  MacBook Pro  Ultrabook    13.3   \n",
       "1          2   Apple  Macbook Air  Ultrabook    13.3   \n",
       "\n",
       "                     ScreenResolution                   Cpu  Ram  \\\n",
       "0  IPS Panel Retina Display 2560x1600  Intel Core i5 2.3GHz  8GB   \n",
       "1                            1440x900  Intel Core i5 1.8GHz  8GB   \n",
       "\n",
       "                Memory                           Gpu  OpSys  Weight  \\\n",
       "0            128GB SSD  Intel Iris Plus Graphics 640  macOS  1.37kg   \n",
       "1  128GB Flash Storage        Intel HD Graphics 6000  macOS  1.34kg   \n",
       "\n",
       "   Price_euros  \n",
       "0      1339.69  \n",
       "1       898.94  "
      ]
     },
     "execution_count": 2,
     "metadata": {},
     "output_type": "execute_result"
    }
   ],
   "source": [
    "data=pd.read_csv(\"laptop_price.csv\",encoding='latin-1')\n",
    "data.head(2)"
   ]
  },
  {
   "cell_type": "code",
   "execution_count": 67,
   "metadata": {},
   "outputs": [],
   "source": [
    "model=joblib.load('Finalmodel.pkl')"
   ]
  },
  {
   "cell_type": "code",
   "execution_count": 38,
   "metadata": {},
   "outputs": [],
   "source": [
    "model"
   ]
  },
  {
   "cell_type": "code",
   "execution_count": 74,
   "metadata": {},
   "outputs": [
    {
     "name": "stderr",
     "output_type": "stream",
     "text": [
      "/tmp/ipykernel_1335042/247390603.py:69: FutureWarning: Downcasting behavior in `replace` is deprecated and will be removed in a future version. To retain the old behavior, explicitly call `result.infer_objects(copy=False)`. To opt-in to the future behavior, set `pd.set_option('future.no_silent_downcasting', True)`\n",
      "  self.dataset[i]=X.replace(to_replace=X.unique(),value=range(len(X.unique())))\n",
      "/tmp/ipykernel_1335042/247390603.py:69: FutureWarning: Downcasting behavior in `replace` is deprecated and will be removed in a future version. To retain the old behavior, explicitly call `result.infer_objects(copy=False)`. To opt-in to the future behavior, set `pd.set_option('future.no_silent_downcasting', True)`\n",
      "  self.dataset[i]=X.replace(to_replace=X.unique(),value=range(len(X.unique())))\n",
      "/tmp/ipykernel_1335042/247390603.py:82: FutureWarning: Downcasting behavior in `replace` is deprecated and will be removed in a future version. To retain the old behavior, explicitly call `result.infer_objects(copy=False)`. To opt-in to the future behavior, set `pd.set_option('future.no_silent_downcasting', True)`\n",
      "  self.dataset[\"Screen_type\"]   = self.dataset[\"Screen_type\"].replace(to_replace= self.dataset[\"Screen_type\"] .unique(),value=range(len( self.dataset[\"Screen_type\"] .unique())))\n",
      "/tmp/ipykernel_1335042/247390603.py:83: FutureWarning: Downcasting behavior in `replace` is deprecated and will be removed in a future version. To retain the old behavior, explicitly call `result.infer_objects(copy=False)`. To opt-in to the future behavior, set `pd.set_option('future.no_silent_downcasting', True)`\n",
      "  self.dataset[\"Cpu_type\"]   = self.dataset[\"Cpu_type\"].replace(to_replace= self.dataset[\"Cpu_type\"] .unique(),value=range(len( self.dataset[\"Cpu_type\"] .unique())))\n"
     ]
    }
   ],
   "source": [
    "transformer=Transformer()\n",
    "transformed_testx=transformer.fit_transform(data)"
   ]
  },
  {
   "cell_type": "code",
   "execution_count": 75,
   "metadata": {},
   "outputs": [],
   "source": [
    "features=data.drop(\"Price_euros\",axis=1)\n",
    "label=data[\"Price_euros\"]"
   ]
  },
  {
   "cell_type": "code",
   "execution_count": 80,
   "metadata": {},
   "outputs": [],
   "source": [
    "trainx,testx,trainy,testy=train_test_split(features,label,test_size=0.2)"
   ]
  },
  {
   "cell_type": "code",
   "execution_count": 81,
   "metadata": {},
   "outputs": [
    {
     "data": {
      "text/plain": [
       "599     1763.00\n",
       "539      859.00\n",
       "705      795.00\n",
       "844     1870.00\n",
       "1064    1929.00\n",
       "         ...   \n",
       "318      980.00\n",
       "86       699.00\n",
       "12      2439.97\n",
       "817      385.00\n",
       "1290     459.00\n",
       "Name: Price_euros, Length: 1042, dtype: float64"
      ]
     },
     "execution_count": 81,
     "metadata": {},
     "output_type": "execute_result"
    }
   ],
   "source": [
    "trainy"
   ]
  },
  {
   "cell_type": "code",
   "execution_count": 82,
   "metadata": {},
   "outputs": [],
   "source": [
    "predict=model.predict(testx)"
   ]
  },
  {
   "cell_type": "code",
   "execution_count": 86,
   "metadata": {},
   "outputs": [],
   "source": [
    "from scipy import stats\n",
    "squared_errors= (testy-predict)**2\n",
    "confidence = 0.95\n",
    "prederror=np.sqrt(stats.t.interval(confidence,len(squared_errors)-1,loc=squared_errors.mean(),scale=stats.sem(squared_errors))).mean()"
   ]
  },
  {
   "cell_type": "code",
   "execution_count": 84,
   "metadata": {},
   "outputs": [],
   "source": [
    "max=testy.max()\n",
    "min=testy.min()"
   ]
  },
  {
   "cell_type": "code",
   "execution_count": 88,
   "metadata": {},
   "outputs": [
    {
     "name": "stdout",
     "output_type": "stream",
     "text": [
      "Accuracy is 92.11356685649235%\n"
     ]
    }
   ],
   "source": [
    "percent=(1-prederror/(max-min))*100\n",
    "print(f\"Accuracy is {percent}%\")"
   ]
  }
 ],
 "metadata": {
  "kernelspec": {
   "display_name": "venv",
   "language": "python",
   "name": "python3"
  },
  "language_info": {
   "codemirror_mode": {
    "name": "ipython",
    "version": 3
   },
   "file_extension": ".py",
   "mimetype": "text/x-python",
   "name": "python",
   "nbconvert_exporter": "python",
   "pygments_lexer": "ipython3",
   "version": "3.12.3"
  }
 },
 "nbformat": 4,
 "nbformat_minor": 2
}
